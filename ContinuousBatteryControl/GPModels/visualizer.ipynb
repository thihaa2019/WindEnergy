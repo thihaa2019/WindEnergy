{
 "cells": [
  {
   "cell_type": "code",
   "execution_count": 2,
   "metadata": {},
   "outputs": [
    {
     "name": "stdout",
     "output_type": "stream",
     "text": [
      "KeyboardInterrupt caught, calling on_optimization_end() to round things up\n"
     ]
    },
    {
     "ename": "KeyboardInterrupt",
     "evalue": "",
     "output_type": "error",
     "traceback": [
      "\u001b[0;31m---------------------------------------------------------------------------\u001b[0m",
      "\u001b[0;31mKeyboardInterrupt\u001b[0m                         Traceback (most recent call last)",
      "Cell \u001b[0;32mIn[2], line 2\u001b[0m\n\u001b[1;32m      1\u001b[0m \u001b[39mfrom\u001b[39;00m \u001b[39mGPControl\u001b[39;00m \u001b[39mimport\u001b[39;00m runner\n\u001b[0;32m----> 2\u001b[0m models,controls \u001b[39m=\u001b[39m runner()\n",
      "File \u001b[0;32m~/Desktop/Energy research/ContinuousBatteryControl/GPModels/GPControl.py:35\u001b[0m, in \u001b[0;36mrunner\u001b[0;34m()\u001b[0m\n\u001b[1;32m     32\u001b[0m \u001b[39m# E[V_t given X_t-1,I_t]\u001b[39;00m\n\u001b[1;32m     34\u001b[0m gpMdl \u001b[39m=\u001b[39m  GPy\u001b[39m.\u001b[39mmodels\u001b[39m.\u001b[39mGPRegression(X_train,y_train\u001b[39m.\u001b[39mreshape(\u001b[39m-\u001b[39m\u001b[39m1\u001b[39m,\u001b[39m1\u001b[39m),kernel)\n\u001b[0;32m---> 35\u001b[0m gpMdl\u001b[39m.\u001b[39;49moptimize(start \u001b[39m=\u001b[39;49m V_opt_start)\n\u001b[1;32m     36\u001b[0m V_opt_start \u001b[39m=\u001b[39m gpMdl\u001b[39m.\u001b[39mparam_array\n\u001b[1;32m     37\u001b[0m \u001b[39mprint\u001b[39m(iStep)\n",
      "File \u001b[0;32m~/miniconda3/envs/energy_mike/lib/python3.10/site-packages/GPy/core/gp.py:675\u001b[0m, in \u001b[0;36mGP.optimize\u001b[0;34m(self, optimizer, start, messages, max_iters, ipython_notebook, clear_after_finish, **kwargs)\u001b[0m\n\u001b[1;32m    673\u001b[0m \u001b[39mself\u001b[39m\u001b[39m.\u001b[39minference_method\u001b[39m.\u001b[39mon_optimization_start()\n\u001b[1;32m    674\u001b[0m \u001b[39mtry\u001b[39;00m:\n\u001b[0;32m--> 675\u001b[0m     ret \u001b[39m=\u001b[39m \u001b[39msuper\u001b[39;49m(GP, \u001b[39mself\u001b[39;49m)\u001b[39m.\u001b[39;49moptimize(optimizer, start, messages, max_iters, ipython_notebook, clear_after_finish, \u001b[39m*\u001b[39;49m\u001b[39m*\u001b[39;49mkwargs)\n\u001b[1;32m    676\u001b[0m \u001b[39mexcept\u001b[39;00m \u001b[39mKeyboardInterrupt\u001b[39;00m:\n\u001b[1;32m    677\u001b[0m     \u001b[39mprint\u001b[39m(\u001b[39m\"\u001b[39m\u001b[39mKeyboardInterrupt caught, calling on_optimization_end() to round things up\u001b[39m\u001b[39m\"\u001b[39m)\n",
      "File \u001b[0;32m~/miniconda3/envs/energy_mike/lib/python3.10/site-packages/paramz/model.py:111\u001b[0m, in \u001b[0;36mModel.optimize\u001b[0;34m(self, optimizer, start, messages, max_iters, ipython_notebook, clear_after_finish, **kwargs)\u001b[0m\n\u001b[1;32m    108\u001b[0m     opt \u001b[39m=\u001b[39m optimizer(max_iters\u001b[39m=\u001b[39mmax_iters, \u001b[39m*\u001b[39m\u001b[39m*\u001b[39mkwargs)\n\u001b[1;32m    110\u001b[0m \u001b[39mwith\u001b[39;00m VerboseOptimization(\u001b[39mself\u001b[39m, opt, maxiters\u001b[39m=\u001b[39mmax_iters, verbose\u001b[39m=\u001b[39mmessages, ipython_notebook\u001b[39m=\u001b[39mipython_notebook, clear_after_finish\u001b[39m=\u001b[39mclear_after_finish) \u001b[39mas\u001b[39;00m vo:\n\u001b[0;32m--> 111\u001b[0m     opt\u001b[39m.\u001b[39;49mrun(start, f_fp\u001b[39m=\u001b[39;49m\u001b[39mself\u001b[39;49m\u001b[39m.\u001b[39;49m_objective_grads, f\u001b[39m=\u001b[39;49m\u001b[39mself\u001b[39;49m\u001b[39m.\u001b[39;49m_objective, fp\u001b[39m=\u001b[39;49m\u001b[39mself\u001b[39;49m\u001b[39m.\u001b[39;49m_grads)\n\u001b[1;32m    113\u001b[0m \u001b[39mself\u001b[39m\u001b[39m.\u001b[39moptimizer_array \u001b[39m=\u001b[39m opt\u001b[39m.\u001b[39mx_opt\n\u001b[1;32m    115\u001b[0m \u001b[39mself\u001b[39m\u001b[39m.\u001b[39moptimization_runs\u001b[39m.\u001b[39mappend(opt)\n",
      "File \u001b[0;32m~/miniconda3/envs/energy_mike/lib/python3.10/site-packages/paramz/optimization/optimization.py:51\u001b[0m, in \u001b[0;36mOptimizer.run\u001b[0;34m(self, x_init, **kwargs)\u001b[0m\n\u001b[1;32m     49\u001b[0m \u001b[39mdef\u001b[39;00m \u001b[39mrun\u001b[39m(\u001b[39mself\u001b[39m, x_init, \u001b[39m*\u001b[39m\u001b[39m*\u001b[39mkwargs):\n\u001b[1;32m     50\u001b[0m     start \u001b[39m=\u001b[39m dt\u001b[39m.\u001b[39mdatetime\u001b[39m.\u001b[39mnow()\n\u001b[0;32m---> 51\u001b[0m     \u001b[39mself\u001b[39;49m\u001b[39m.\u001b[39;49mopt(x_init, \u001b[39m*\u001b[39;49m\u001b[39m*\u001b[39;49mkwargs)\n\u001b[1;32m     52\u001b[0m     end \u001b[39m=\u001b[39m dt\u001b[39m.\u001b[39mdatetime\u001b[39m.\u001b[39mnow()\n\u001b[1;32m     53\u001b[0m     \u001b[39mself\u001b[39m\u001b[39m.\u001b[39mtime \u001b[39m=\u001b[39m \u001b[39mstr\u001b[39m(end \u001b[39m-\u001b[39m start)\n",
      "File \u001b[0;32m~/miniconda3/envs/energy_mike/lib/python3.10/site-packages/paramz/optimization/optimization.py:124\u001b[0m, in \u001b[0;36mopt_lbfgsb.opt\u001b[0;34m(self, x_init, f_fp, f, fp)\u001b[0m\n\u001b[1;32m    121\u001b[0m \u001b[39mif\u001b[39;00m \u001b[39mself\u001b[39m\u001b[39m.\u001b[39mbfgs_factor \u001b[39mis\u001b[39;00m \u001b[39mnot\u001b[39;00m \u001b[39mNone\u001b[39;00m:\n\u001b[1;32m    122\u001b[0m     opt_dict[\u001b[39m'\u001b[39m\u001b[39mfactr\u001b[39m\u001b[39m'\u001b[39m] \u001b[39m=\u001b[39m \u001b[39mself\u001b[39m\u001b[39m.\u001b[39mbfgs_factor\n\u001b[0;32m--> 124\u001b[0m opt_result \u001b[39m=\u001b[39m optimize\u001b[39m.\u001b[39;49mfmin_l_bfgs_b(f_fp, x_init, maxfun\u001b[39m=\u001b[39;49m\u001b[39mself\u001b[39;49m\u001b[39m.\u001b[39;49mmax_iters, maxiter\u001b[39m=\u001b[39;49m\u001b[39mself\u001b[39;49m\u001b[39m.\u001b[39;49mmax_iters, \u001b[39m*\u001b[39;49m\u001b[39m*\u001b[39;49mopt_dict)\n\u001b[1;32m    125\u001b[0m \u001b[39mself\u001b[39m\u001b[39m.\u001b[39mx_opt \u001b[39m=\u001b[39m opt_result[\u001b[39m0\u001b[39m]\n\u001b[1;32m    126\u001b[0m \u001b[39mself\u001b[39m\u001b[39m.\u001b[39mf_opt \u001b[39m=\u001b[39m f_fp(\u001b[39mself\u001b[39m\u001b[39m.\u001b[39mx_opt)[\u001b[39m0\u001b[39m]\n",
      "File \u001b[0;32m~/miniconda3/envs/energy_mike/lib/python3.10/site-packages/scipy/optimize/_lbfgsb_py.py:199\u001b[0m, in \u001b[0;36mfmin_l_bfgs_b\u001b[0;34m(func, x0, fprime, args, approx_grad, bounds, m, factr, pgtol, epsilon, iprint, maxfun, maxiter, disp, callback, maxls)\u001b[0m\n\u001b[1;32m    187\u001b[0m callback \u001b[39m=\u001b[39m _wrap_callback(callback)\n\u001b[1;32m    188\u001b[0m opts \u001b[39m=\u001b[39m {\u001b[39m'\u001b[39m\u001b[39mdisp\u001b[39m\u001b[39m'\u001b[39m: disp,\n\u001b[1;32m    189\u001b[0m         \u001b[39m'\u001b[39m\u001b[39miprint\u001b[39m\u001b[39m'\u001b[39m: iprint,\n\u001b[1;32m    190\u001b[0m         \u001b[39m'\u001b[39m\u001b[39mmaxcor\u001b[39m\u001b[39m'\u001b[39m: m,\n\u001b[0;32m   (...)\u001b[0m\n\u001b[1;32m    196\u001b[0m         \u001b[39m'\u001b[39m\u001b[39mcallback\u001b[39m\u001b[39m'\u001b[39m: callback,\n\u001b[1;32m    197\u001b[0m         \u001b[39m'\u001b[39m\u001b[39mmaxls\u001b[39m\u001b[39m'\u001b[39m: maxls}\n\u001b[0;32m--> 199\u001b[0m res \u001b[39m=\u001b[39m _minimize_lbfgsb(fun, x0, args\u001b[39m=\u001b[39;49margs, jac\u001b[39m=\u001b[39;49mjac, bounds\u001b[39m=\u001b[39;49mbounds,\n\u001b[1;32m    200\u001b[0m                        \u001b[39m*\u001b[39;49m\u001b[39m*\u001b[39;49mopts)\n\u001b[1;32m    201\u001b[0m d \u001b[39m=\u001b[39m {\u001b[39m'\u001b[39m\u001b[39mgrad\u001b[39m\u001b[39m'\u001b[39m: res[\u001b[39m'\u001b[39m\u001b[39mjac\u001b[39m\u001b[39m'\u001b[39m],\n\u001b[1;32m    202\u001b[0m      \u001b[39m'\u001b[39m\u001b[39mtask\u001b[39m\u001b[39m'\u001b[39m: res[\u001b[39m'\u001b[39m\u001b[39mmessage\u001b[39m\u001b[39m'\u001b[39m],\n\u001b[1;32m    203\u001b[0m      \u001b[39m'\u001b[39m\u001b[39mfuncalls\u001b[39m\u001b[39m'\u001b[39m: res[\u001b[39m'\u001b[39m\u001b[39mnfev\u001b[39m\u001b[39m'\u001b[39m],\n\u001b[1;32m    204\u001b[0m      \u001b[39m'\u001b[39m\u001b[39mnit\u001b[39m\u001b[39m'\u001b[39m: res[\u001b[39m'\u001b[39m\u001b[39mnit\u001b[39m\u001b[39m'\u001b[39m],\n\u001b[1;32m    205\u001b[0m      \u001b[39m'\u001b[39m\u001b[39mwarnflag\u001b[39m\u001b[39m'\u001b[39m: res[\u001b[39m'\u001b[39m\u001b[39mstatus\u001b[39m\u001b[39m'\u001b[39m]}\n\u001b[1;32m    206\u001b[0m f \u001b[39m=\u001b[39m res[\u001b[39m'\u001b[39m\u001b[39mfun\u001b[39m\u001b[39m'\u001b[39m]\n",
      "File \u001b[0;32m~/miniconda3/envs/energy_mike/lib/python3.10/site-packages/scipy/optimize/_lbfgsb_py.py:361\u001b[0m, in \u001b[0;36m_minimize_lbfgsb\u001b[0;34m(fun, x0, args, jac, bounds, disp, maxcor, ftol, gtol, eps, maxfun, maxiter, iprint, callback, maxls, finite_diff_rel_step, **unknown_options)\u001b[0m\n\u001b[1;32m    355\u001b[0m task_str \u001b[39m=\u001b[39m task\u001b[39m.\u001b[39mtobytes()\n\u001b[1;32m    356\u001b[0m \u001b[39mif\u001b[39;00m task_str\u001b[39m.\u001b[39mstartswith(\u001b[39mb\u001b[39m\u001b[39m'\u001b[39m\u001b[39mFG\u001b[39m\u001b[39m'\u001b[39m):\n\u001b[1;32m    357\u001b[0m     \u001b[39m# The minimization routine wants f and g at the current x.\u001b[39;00m\n\u001b[1;32m    358\u001b[0m     \u001b[39m# Note that interruptions due to maxfun are postponed\u001b[39;00m\n\u001b[1;32m    359\u001b[0m     \u001b[39m# until the completion of the current minimization iteration.\u001b[39;00m\n\u001b[1;32m    360\u001b[0m     \u001b[39m# Overwrite f and g:\u001b[39;00m\n\u001b[0;32m--> 361\u001b[0m     f, g \u001b[39m=\u001b[39m func_and_grad(x)\n\u001b[1;32m    362\u001b[0m \u001b[39melif\u001b[39;00m task_str\u001b[39m.\u001b[39mstartswith(\u001b[39mb\u001b[39m\u001b[39m'\u001b[39m\u001b[39mNEW_X\u001b[39m\u001b[39m'\u001b[39m):\n\u001b[1;32m    363\u001b[0m     \u001b[39m# new iteration\u001b[39;00m\n\u001b[1;32m    364\u001b[0m     n_iterations \u001b[39m+\u001b[39m\u001b[39m=\u001b[39m \u001b[39m1\u001b[39m\n",
      "File \u001b[0;32m~/miniconda3/envs/energy_mike/lib/python3.10/site-packages/scipy/optimize/_differentiable_functions.py:285\u001b[0m, in \u001b[0;36mScalarFunction.fun_and_grad\u001b[0;34m(self, x)\u001b[0m\n\u001b[1;32m    283\u001b[0m \u001b[39mif\u001b[39;00m \u001b[39mnot\u001b[39;00m np\u001b[39m.\u001b[39marray_equal(x, \u001b[39mself\u001b[39m\u001b[39m.\u001b[39mx):\n\u001b[1;32m    284\u001b[0m     \u001b[39mself\u001b[39m\u001b[39m.\u001b[39m_update_x_impl(x)\n\u001b[0;32m--> 285\u001b[0m \u001b[39mself\u001b[39;49m\u001b[39m.\u001b[39;49m_update_fun()\n\u001b[1;32m    286\u001b[0m \u001b[39mself\u001b[39m\u001b[39m.\u001b[39m_update_grad()\n\u001b[1;32m    287\u001b[0m \u001b[39mreturn\u001b[39;00m \u001b[39mself\u001b[39m\u001b[39m.\u001b[39mf, \u001b[39mself\u001b[39m\u001b[39m.\u001b[39mg\n",
      "File \u001b[0;32m~/miniconda3/envs/energy_mike/lib/python3.10/site-packages/scipy/optimize/_differentiable_functions.py:251\u001b[0m, in \u001b[0;36mScalarFunction._update_fun\u001b[0;34m(self)\u001b[0m\n\u001b[1;32m    249\u001b[0m \u001b[39mdef\u001b[39;00m \u001b[39m_update_fun\u001b[39m(\u001b[39mself\u001b[39m):\n\u001b[1;32m    250\u001b[0m     \u001b[39mif\u001b[39;00m \u001b[39mnot\u001b[39;00m \u001b[39mself\u001b[39m\u001b[39m.\u001b[39mf_updated:\n\u001b[0;32m--> 251\u001b[0m         \u001b[39mself\u001b[39;49m\u001b[39m.\u001b[39;49m_update_fun_impl()\n\u001b[1;32m    252\u001b[0m         \u001b[39mself\u001b[39m\u001b[39m.\u001b[39mf_updated \u001b[39m=\u001b[39m \u001b[39mTrue\u001b[39;00m\n",
      "File \u001b[0;32m~/miniconda3/envs/energy_mike/lib/python3.10/site-packages/scipy/optimize/_differentiable_functions.py:155\u001b[0m, in \u001b[0;36mScalarFunction.__init__.<locals>.update_fun\u001b[0;34m()\u001b[0m\n\u001b[1;32m    154\u001b[0m \u001b[39mdef\u001b[39;00m \u001b[39mupdate_fun\u001b[39m():\n\u001b[0;32m--> 155\u001b[0m     \u001b[39mself\u001b[39m\u001b[39m.\u001b[39mf \u001b[39m=\u001b[39m fun_wrapped(\u001b[39mself\u001b[39;49m\u001b[39m.\u001b[39;49mx)\n",
      "File \u001b[0;32m~/miniconda3/envs/energy_mike/lib/python3.10/site-packages/scipy/optimize/_differentiable_functions.py:137\u001b[0m, in \u001b[0;36mScalarFunction.__init__.<locals>.fun_wrapped\u001b[0;34m(x)\u001b[0m\n\u001b[1;32m    133\u001b[0m \u001b[39mself\u001b[39m\u001b[39m.\u001b[39mnfev \u001b[39m+\u001b[39m\u001b[39m=\u001b[39m \u001b[39m1\u001b[39m\n\u001b[1;32m    134\u001b[0m \u001b[39m# Send a copy because the user may overwrite it.\u001b[39;00m\n\u001b[1;32m    135\u001b[0m \u001b[39m# Overwriting results in undefined behaviour because\u001b[39;00m\n\u001b[1;32m    136\u001b[0m \u001b[39m# fun(self.x) will change self.x, with the two no longer linked.\u001b[39;00m\n\u001b[0;32m--> 137\u001b[0m fx \u001b[39m=\u001b[39m fun(np\u001b[39m.\u001b[39;49mcopy(x), \u001b[39m*\u001b[39;49margs)\n\u001b[1;32m    138\u001b[0m \u001b[39m# Make sure the function returns a true scalar\u001b[39;00m\n\u001b[1;32m    139\u001b[0m \u001b[39mif\u001b[39;00m \u001b[39mnot\u001b[39;00m np\u001b[39m.\u001b[39misscalar(fx):\n",
      "File \u001b[0;32m~/miniconda3/envs/energy_mike/lib/python3.10/site-packages/scipy/optimize/_optimize.py:77\u001b[0m, in \u001b[0;36mMemoizeJac.__call__\u001b[0;34m(self, x, *args)\u001b[0m\n\u001b[1;32m     75\u001b[0m \u001b[39mdef\u001b[39;00m \u001b[39m__call__\u001b[39m(\u001b[39mself\u001b[39m, x, \u001b[39m*\u001b[39margs):\n\u001b[1;32m     76\u001b[0m \u001b[39m    \u001b[39m\u001b[39m\"\"\" returns the function value \"\"\"\u001b[39;00m\n\u001b[0;32m---> 77\u001b[0m     \u001b[39mself\u001b[39;49m\u001b[39m.\u001b[39;49m_compute_if_needed(x, \u001b[39m*\u001b[39;49margs)\n\u001b[1;32m     78\u001b[0m     \u001b[39mreturn\u001b[39;00m \u001b[39mself\u001b[39m\u001b[39m.\u001b[39m_value\n",
      "File \u001b[0;32m~/miniconda3/envs/energy_mike/lib/python3.10/site-packages/scipy/optimize/_optimize.py:71\u001b[0m, in \u001b[0;36mMemoizeJac._compute_if_needed\u001b[0;34m(self, x, *args)\u001b[0m\n\u001b[1;32m     69\u001b[0m \u001b[39mif\u001b[39;00m \u001b[39mnot\u001b[39;00m np\u001b[39m.\u001b[39mall(x \u001b[39m==\u001b[39m \u001b[39mself\u001b[39m\u001b[39m.\u001b[39mx) \u001b[39mor\u001b[39;00m \u001b[39mself\u001b[39m\u001b[39m.\u001b[39m_value \u001b[39mis\u001b[39;00m \u001b[39mNone\u001b[39;00m \u001b[39mor\u001b[39;00m \u001b[39mself\u001b[39m\u001b[39m.\u001b[39mjac \u001b[39mis\u001b[39;00m \u001b[39mNone\u001b[39;00m:\n\u001b[1;32m     70\u001b[0m     \u001b[39mself\u001b[39m\u001b[39m.\u001b[39mx \u001b[39m=\u001b[39m np\u001b[39m.\u001b[39masarray(x)\u001b[39m.\u001b[39mcopy()\n\u001b[0;32m---> 71\u001b[0m     fg \u001b[39m=\u001b[39m \u001b[39mself\u001b[39;49m\u001b[39m.\u001b[39;49mfun(x, \u001b[39m*\u001b[39;49margs)\n\u001b[1;32m     72\u001b[0m     \u001b[39mself\u001b[39m\u001b[39m.\u001b[39mjac \u001b[39m=\u001b[39m fg[\u001b[39m1\u001b[39m]\n\u001b[1;32m     73\u001b[0m     \u001b[39mself\u001b[39m\u001b[39m.\u001b[39m_value \u001b[39m=\u001b[39m fg[\u001b[39m0\u001b[39m]\n",
      "File \u001b[0;32m~/miniconda3/envs/energy_mike/lib/python3.10/site-packages/paramz/model.py:273\u001b[0m, in \u001b[0;36mModel._objective_grads\u001b[0;34m(self, x)\u001b[0m\n\u001b[1;32m    271\u001b[0m \u001b[39mdef\u001b[39;00m \u001b[39m_objective_grads\u001b[39m(\u001b[39mself\u001b[39m, x):\n\u001b[1;32m    272\u001b[0m     \u001b[39mtry\u001b[39;00m:\n\u001b[0;32m--> 273\u001b[0m         \u001b[39mself\u001b[39m\u001b[39m.\u001b[39moptimizer_array \u001b[39m=\u001b[39m x\n\u001b[1;32m    274\u001b[0m         obj_f, \u001b[39mself\u001b[39m\u001b[39m.\u001b[39mobj_grads \u001b[39m=\u001b[39m \u001b[39mself\u001b[39m\u001b[39m.\u001b[39mobjective_function(), \u001b[39mself\u001b[39m\u001b[39m.\u001b[39m_transform_gradients(\u001b[39mself\u001b[39m\u001b[39m.\u001b[39mobjective_function_gradients())\n\u001b[1;32m    275\u001b[0m         \u001b[39mself\u001b[39m\u001b[39m.\u001b[39m_fail_count \u001b[39m=\u001b[39m \u001b[39m0\u001b[39m\n",
      "File \u001b[0;32m~/miniconda3/envs/energy_mike/lib/python3.10/site-packages/paramz/parameterized.py:339\u001b[0m, in \u001b[0;36mParameterized.__setattr__\u001b[0;34m(self, name, val)\u001b[0m\n\u001b[1;32m    337\u001b[0m         param \u001b[39m=\u001b[39m \u001b[39mself\u001b[39m\u001b[39m.\u001b[39mparameters[pnames\u001b[39m.\u001b[39mindex(name)]\n\u001b[1;32m    338\u001b[0m         param[:] \u001b[39m=\u001b[39m val; \u001b[39mreturn\u001b[39;00m\n\u001b[0;32m--> 339\u001b[0m \u001b[39mreturn\u001b[39;00m \u001b[39mobject\u001b[39;49m\u001b[39m.\u001b[39;49m\u001b[39m__setattr__\u001b[39;49m(\u001b[39mself\u001b[39;49m, name, val)\n",
      "File \u001b[0;32m~/miniconda3/envs/energy_mike/lib/python3.10/site-packages/paramz/core/parameter_core.py:124\u001b[0m, in \u001b[0;36mOptimizationHandlable.optimizer_array\u001b[0;34m(self, p)\u001b[0m\n\u001b[1;32m    121\u001b[0m \u001b[39m#self._highest_parent_.tie.propagate_val()\u001b[39;00m\n\u001b[1;32m    123\u001b[0m \u001b[39mself\u001b[39m\u001b[39m.\u001b[39m_optimizer_copy_transformed \u001b[39m=\u001b[39m \u001b[39mFalse\u001b[39;00m\n\u001b[0;32m--> 124\u001b[0m \u001b[39mself\u001b[39;49m\u001b[39m.\u001b[39;49mtrigger_update()\n",
      "File \u001b[0;32m~/miniconda3/envs/energy_mike/lib/python3.10/site-packages/paramz/core/updateable.py:79\u001b[0m, in \u001b[0;36mUpdateable.trigger_update\u001b[0;34m(self, trigger_parent)\u001b[0m\n\u001b[1;32m     76\u001b[0m \u001b[39mif\u001b[39;00m \u001b[39mnot\u001b[39;00m \u001b[39mself\u001b[39m\u001b[39m.\u001b[39mupdate_model() \u001b[39mor\u001b[39;00m (\u001b[39mhasattr\u001b[39m(\u001b[39mself\u001b[39m, \u001b[39m\"\u001b[39m\u001b[39m_in_init_\u001b[39m\u001b[39m\"\u001b[39m) \u001b[39mand\u001b[39;00m \u001b[39mself\u001b[39m\u001b[39m.\u001b[39m_in_init_):\n\u001b[1;32m     77\u001b[0m     \u001b[39m#print \"Warning: updates are off, updating the model will do nothing\"\u001b[39;00m\n\u001b[1;32m     78\u001b[0m     \u001b[39mreturn\u001b[39;00m\n\u001b[0;32m---> 79\u001b[0m \u001b[39mself\u001b[39;49m\u001b[39m.\u001b[39;49m_trigger_params_changed(trigger_parent)\n",
      "File \u001b[0;32m~/miniconda3/envs/energy_mike/lib/python3.10/site-packages/paramz/core/parameter_core.py:134\u001b[0m, in \u001b[0;36mOptimizationHandlable._trigger_params_changed\u001b[0;34m(self, trigger_parent)\u001b[0m\n\u001b[1;32m    127\u001b[0m \u001b[39m\u001b[39m\u001b[39m\"\"\"\u001b[39;00m\n\u001b[1;32m    128\u001b[0m \u001b[39mFirst tell all children to update,\u001b[39;00m\n\u001b[1;32m    129\u001b[0m \u001b[39mthen update yourself.\u001b[39;00m\n\u001b[1;32m    130\u001b[0m \n\u001b[1;32m    131\u001b[0m \u001b[39mIf trigger_parent is True, we will tell the parent, otherwise not.\u001b[39;00m\n\u001b[1;32m    132\u001b[0m \u001b[39m\"\"\"\u001b[39;00m\n\u001b[1;32m    133\u001b[0m [p\u001b[39m.\u001b[39m_trigger_params_changed(trigger_parent\u001b[39m=\u001b[39m\u001b[39mFalse\u001b[39;00m) \u001b[39mfor\u001b[39;00m p \u001b[39min\u001b[39;00m \u001b[39mself\u001b[39m\u001b[39m.\u001b[39mparameters \u001b[39mif\u001b[39;00m \u001b[39mnot\u001b[39;00m p\u001b[39m.\u001b[39mis_fixed]\n\u001b[0;32m--> 134\u001b[0m \u001b[39mself\u001b[39;49m\u001b[39m.\u001b[39;49mnotify_observers(\u001b[39mNone\u001b[39;49;00m, \u001b[39mNone\u001b[39;49;00m \u001b[39mif\u001b[39;49;00m trigger_parent \u001b[39melse\u001b[39;49;00m \u001b[39m-\u001b[39;49mnp\u001b[39m.\u001b[39;49minf)\n",
      "File \u001b[0;32m~/miniconda3/envs/energy_mike/lib/python3.10/site-packages/paramz/core/observable.py:91\u001b[0m, in \u001b[0;36mObservable.notify_observers\u001b[0;34m(self, which, min_priority)\u001b[0m\n\u001b[1;32m     89\u001b[0m     which \u001b[39m=\u001b[39m \u001b[39mself\u001b[39m\n\u001b[1;32m     90\u001b[0m \u001b[39mif\u001b[39;00m min_priority \u001b[39mis\u001b[39;00m \u001b[39mNone\u001b[39;00m:\n\u001b[0;32m---> 91\u001b[0m     [callble(\u001b[39mself\u001b[39m, which\u001b[39m=\u001b[39mwhich) \u001b[39mfor\u001b[39;00m _, _, callble \u001b[39min\u001b[39;00m \u001b[39mself\u001b[39m\u001b[39m.\u001b[39mobservers]\n\u001b[1;32m     92\u001b[0m \u001b[39melse\u001b[39;00m:\n\u001b[1;32m     93\u001b[0m     \u001b[39mfor\u001b[39;00m p, _, callble \u001b[39min\u001b[39;00m \u001b[39mself\u001b[39m\u001b[39m.\u001b[39mobservers:\n",
      "File \u001b[0;32m~/miniconda3/envs/energy_mike/lib/python3.10/site-packages/paramz/core/observable.py:91\u001b[0m, in \u001b[0;36m<listcomp>\u001b[0;34m(.0)\u001b[0m\n\u001b[1;32m     89\u001b[0m     which \u001b[39m=\u001b[39m \u001b[39mself\u001b[39m\n\u001b[1;32m     90\u001b[0m \u001b[39mif\u001b[39;00m min_priority \u001b[39mis\u001b[39;00m \u001b[39mNone\u001b[39;00m:\n\u001b[0;32m---> 91\u001b[0m     [callble(\u001b[39mself\u001b[39;49m, which\u001b[39m=\u001b[39;49mwhich) \u001b[39mfor\u001b[39;00m _, _, callble \u001b[39min\u001b[39;00m \u001b[39mself\u001b[39m\u001b[39m.\u001b[39mobservers]\n\u001b[1;32m     92\u001b[0m \u001b[39melse\u001b[39;00m:\n\u001b[1;32m     93\u001b[0m     \u001b[39mfor\u001b[39;00m p, _, callble \u001b[39min\u001b[39;00m \u001b[39mself\u001b[39m\u001b[39m.\u001b[39mobservers:\n",
      "File \u001b[0;32m~/miniconda3/envs/energy_mike/lib/python3.10/site-packages/paramz/core/parameter_core.py:508\u001b[0m, in \u001b[0;36mParameterizable._parameters_changed_notification\u001b[0;34m(self, me, which)\u001b[0m\n\u001b[1;32m    503\u001b[0m \u001b[39m\u001b[39m\u001b[39m\"\"\"\u001b[39;00m\n\u001b[1;32m    504\u001b[0m \u001b[39mIn parameterizable we just need to make sure, that the next call to optimizer_array\u001b[39;00m\n\u001b[1;32m    505\u001b[0m \u001b[39mwill update the optimizer_array to the latest parameters\u001b[39;00m\n\u001b[1;32m    506\u001b[0m \u001b[39m\"\"\"\u001b[39;00m\n\u001b[1;32m    507\u001b[0m \u001b[39mself\u001b[39m\u001b[39m.\u001b[39m_optimizer_copy_transformed \u001b[39m=\u001b[39m \u001b[39mFalse\u001b[39;00m \u001b[39m# tells the optimizer array to update on next request\u001b[39;00m\n\u001b[0;32m--> 508\u001b[0m \u001b[39mself\u001b[39;49m\u001b[39m.\u001b[39;49mparameters_changed()\n",
      "File \u001b[0;32m~/miniconda3/envs/energy_mike/lib/python3.10/site-packages/GPy/core/gp.py:274\u001b[0m, in \u001b[0;36mGP.parameters_changed\u001b[0;34m(self)\u001b[0m\n\u001b[1;32m    265\u001b[0m \u001b[39mdef\u001b[39;00m \u001b[39mparameters_changed\u001b[39m(\u001b[39mself\u001b[39m):\n\u001b[1;32m    266\u001b[0m \u001b[39m    \u001b[39m\u001b[39m\"\"\"\u001b[39;00m\n\u001b[1;32m    267\u001b[0m \u001b[39m    Method that is called upon any changes to :class:`~GPy.core.parameterization.param.Param` variables within the model.\u001b[39;00m\n\u001b[1;32m    268\u001b[0m \u001b[39m    In particular in the GP class this method re-performs inference, recalculating the posterior and log marginal likelihood and gradients of the model\u001b[39;00m\n\u001b[0;32m   (...)\u001b[0m\n\u001b[1;32m    272\u001b[0m \u001b[39m        this method yourself, there may be unexpected consequences.\u001b[39;00m\n\u001b[1;32m    273\u001b[0m \u001b[39m    \"\"\"\u001b[39;00m\n\u001b[0;32m--> 274\u001b[0m     \u001b[39mself\u001b[39m\u001b[39m.\u001b[39mposterior, \u001b[39mself\u001b[39m\u001b[39m.\u001b[39m_log_marginal_likelihood, \u001b[39mself\u001b[39m\u001b[39m.\u001b[39mgrad_dict \u001b[39m=\u001b[39m \u001b[39mself\u001b[39;49m\u001b[39m.\u001b[39;49minference_method\u001b[39m.\u001b[39;49minference(\u001b[39mself\u001b[39;49m\u001b[39m.\u001b[39;49mkern, \u001b[39mself\u001b[39;49m\u001b[39m.\u001b[39;49mX, \u001b[39mself\u001b[39;49m\u001b[39m.\u001b[39;49mlikelihood, \u001b[39mself\u001b[39;49m\u001b[39m.\u001b[39;49mY_normalized, \u001b[39mself\u001b[39;49m\u001b[39m.\u001b[39;49mmean_function, \u001b[39mself\u001b[39;49m\u001b[39m.\u001b[39;49mY_metadata)\n\u001b[1;32m    275\u001b[0m     \u001b[39mself\u001b[39m\u001b[39m.\u001b[39mlikelihood\u001b[39m.\u001b[39mupdate_gradients(\u001b[39mself\u001b[39m\u001b[39m.\u001b[39mgrad_dict[\u001b[39m'\u001b[39m\u001b[39mdL_dthetaL\u001b[39m\u001b[39m'\u001b[39m])\n\u001b[1;32m    276\u001b[0m     \u001b[39mself\u001b[39m\u001b[39m.\u001b[39mkern\u001b[39m.\u001b[39mupdate_gradients_full(\u001b[39mself\u001b[39m\u001b[39m.\u001b[39mgrad_dict[\u001b[39m'\u001b[39m\u001b[39mdL_dK\u001b[39m\u001b[39m'\u001b[39m], \u001b[39mself\u001b[39m\u001b[39m.\u001b[39mX)\n",
      "File \u001b[0;32m~/miniconda3/envs/energy_mike/lib/python3.10/site-packages/GPy/inference/latent_function_inference/exact_gaussian_inference.py:58\u001b[0m, in \u001b[0;36mExactGaussianInference.inference\u001b[0;34m(self, kern, X, likelihood, Y, mean_function, Y_metadata, K, variance, Z_tilde)\u001b[0m\n\u001b[1;32m     55\u001b[0m Ky \u001b[39m=\u001b[39m K\u001b[39m.\u001b[39mcopy()\n\u001b[1;32m     56\u001b[0m diag\u001b[39m.\u001b[39madd(Ky, variance\u001b[39m+\u001b[39m\u001b[39m1e-8\u001b[39m)\n\u001b[0;32m---> 58\u001b[0m Wi, LW, LWi, W_logdet \u001b[39m=\u001b[39m pdinv(Ky)\n\u001b[1;32m     60\u001b[0m alpha, _ \u001b[39m=\u001b[39m dpotrs(LW, YYT_factor, lower\u001b[39m=\u001b[39m\u001b[39m1\u001b[39m)\n\u001b[1;32m     62\u001b[0m log_marginal \u001b[39m=\u001b[39m  \u001b[39m0.5\u001b[39m\u001b[39m*\u001b[39m(\u001b[39m-\u001b[39mY\u001b[39m.\u001b[39msize \u001b[39m*\u001b[39m log_2_pi \u001b[39m-\u001b[39m Y\u001b[39m.\u001b[39mshape[\u001b[39m1\u001b[39m] \u001b[39m*\u001b[39m W_logdet \u001b[39m-\u001b[39m np\u001b[39m.\u001b[39msum(alpha \u001b[39m*\u001b[39m YYT_factor))\n",
      "File \u001b[0;32m~/miniconda3/envs/energy_mike/lib/python3.10/site-packages/GPy/util/linalg.py:210\u001b[0m, in \u001b[0;36mpdinv\u001b[0;34m(A, *args)\u001b[0m\n\u001b[1;32m    208\u001b[0m logdet \u001b[39m=\u001b[39m \u001b[39m2.\u001b[39m\u001b[39m*\u001b[39mnp\u001b[39m.\u001b[39msum(np\u001b[39m.\u001b[39mlog(np\u001b[39m.\u001b[39mdiag(L)))\n\u001b[1;32m    209\u001b[0m Li \u001b[39m=\u001b[39m dtrtri(L)\n\u001b[0;32m--> 210\u001b[0m Ai, _ \u001b[39m=\u001b[39m dpotri(L, lower\u001b[39m=\u001b[39;49m\u001b[39m1\u001b[39;49m)\n\u001b[1;32m    211\u001b[0m \u001b[39m# Ai = np.tril(Ai) + np.tril(Ai,-1).T\u001b[39;00m\n\u001b[1;32m    212\u001b[0m symmetrify(Ai)\n",
      "File \u001b[0;32m~/miniconda3/envs/energy_mike/lib/python3.10/site-packages/GPy/util/linalg.py:142\u001b[0m, in \u001b[0;36mdpotri\u001b[0;34m(A, lower)\u001b[0m\n\u001b[1;32m    128\u001b[0m \u001b[39m\u001b[39m\u001b[39m\"\"\"\u001b[39;00m\n\u001b[1;32m    129\u001b[0m \u001b[39mWrapper for lapack dpotri function\u001b[39;00m\n\u001b[1;32m    130\u001b[0m \n\u001b[0;32m   (...)\u001b[0m\n\u001b[1;32m    138\u001b[0m \n\u001b[1;32m    139\u001b[0m \u001b[39m\"\"\"\u001b[39;00m\n\u001b[1;32m    141\u001b[0m A \u001b[39m=\u001b[39m force_F_ordered(A)\n\u001b[0;32m--> 142\u001b[0m R, info \u001b[39m=\u001b[39m lapack\u001b[39m.\u001b[39;49mdpotri(A, lower\u001b[39m=\u001b[39;49mlower) \u001b[39m#needs to be zero here, seems to be a scipy bug\u001b[39;00m\n\u001b[1;32m    144\u001b[0m symmetrify(R)\n\u001b[1;32m    145\u001b[0m \u001b[39mreturn\u001b[39;00m R, info\n",
      "\u001b[0;31mKeyboardInterrupt\u001b[0m: "
     ]
    }
   ],
   "source": [
    "from GPControl import runner\n",
    "models,controls = runner()"
   ]
  },
  {
   "cell_type": "code",
   "execution_count": null,
   "metadata": {},
   "outputs": [],
   "source": [
    "import matplotlib.pyplot as plt\n",
    "\n",
    "t = np.linspace(0,47.75,nstep)\n",
    "B_star = np.zeros(len(t))\n",
    "for i in range(len(t)):\n",
    "    inp = np.array([-2,9]).reshape(1,-1)\n",
    "    B_star[i] = controls[i].predict(inp)[0].flatten()[0]\n",
    "plt.plot(t,B_star)\n",
    "plt.title(\"B(t,demand = 3, I = 9)\")"
   ]
  },
  {
   "cell_type": "code",
   "execution_count": null,
   "metadata": {},
   "outputs": [],
   "source": [
    "X_range = np.arange(-3,3+0.1,0.01)\n",
    "I_range  = np.arange(0,10+0.1,0.01)\n",
    "B_range_t0 = np.zeros((len(I_range),len(X_range)))\n",
    "B_range_tmid = np.zeros((len(I_range),len(X_range)))\n",
    "B_range_t47 = np.zeros((len(I_range),len(X_range)))\n",
    "B_range_t46 = np.zeros((len(I_range),len(X_range)))\n",
    "B_range_tend = np.zeros((len(I_range),len(X_range)))\n",
    "for i in range(len(I_range)):\n",
    "    inp = np.column_stack((X_range,I_range[i] * np.ones(len(X_range))))\n",
    "    B_range_t0[i,:] = controls[0].predict(inp)[0].flatten()\n",
    "    B_range_tmid[i,:] = controls[nstep//2].predict(inp)[0].flatten()\n",
    "    B_range_t47[i,:]= controls[-4].predict(inp)[0].flatten()\n",
    "    B_range_tend[i,:] = controls[-1].predict(inp)[0].flatten()"
   ]
  },
  {
   "cell_type": "code",
   "execution_count": null,
   "metadata": {},
   "outputs": [],
   "source": [
    "X, Y = np.meshgrid(X_range, I_range)\n",
    "\n",
    "fig = plt.figure(figsize=(8, 8))\n",
    "ax = plt.axes(projection='3d') \n",
    "ax.plot_surface(X, Y, B_range_t0, cmap='cool', alpha=0.8)\n",
    "ax.set_title('optimal_control B(I,Demand) (GP) ', fontsize=14)\n",
    "ax.set_xlabel('demand', fontsize=12)\n",
    "ax.view_init(30, 60)\n",
    "ax.set_ylabel('I0', fontsize=12)\n",
    "ax.set_zlabel('B', fontsize=10)\n",
    "plt.show()"
   ]
  },
  {
   "cell_type": "code",
   "execution_count": null,
   "metadata": {},
   "outputs": [],
   "source": [
    "X, Y = np.meshgrid(X_range, I_range)\n",
    "\n",
    "fig = plt.figure(figsize=(8, 8))\n",
    "ax = plt.axes(projection='3d') \n",
    "ax.plot_surface(X, Y, B_range_tmid, cmap='cool', alpha=0.8)\n",
    "ax.set_title('optimal_control B(I,Demand) (GP) ', fontsize=14)\n",
    "ax.set_xlabel('demand', fontsize=12)\n",
    "ax.view_init(30, 60)\n",
    "ax.set_ylabel('I0', fontsize=12)\n",
    "ax.set_zlabel('B', fontsize=10)\n",
    "plt.show()"
   ]
  },
  {
   "cell_type": "code",
   "execution_count": null,
   "metadata": {},
   "outputs": [],
   "source": [
    "fig = plt.figure(figsize=(8, 8))\n",
    "ax = plt.axes(projection='3d') \n",
    "ax.plot_surface(X, Y, B_range_t47, cmap='cool', alpha=0.8)\n",
    "ax.set_title('optimal_control B(I,Demand) (GP) ', fontsize=14)\n",
    "ax.set_xlabel('demand', fontsize=12)\n",
    "ax.view_init(30, 60)\n",
    "ax.set_ylabel('I0', fontsize=12)\n",
    "ax.set_zlabel('B', fontsize=10)\n",
    "plt.show()"
   ]
  },
  {
   "cell_type": "code",
   "execution_count": null,
   "metadata": {},
   "outputs": [],
   "source": [
    "fig = plt.figure(figsize=(8, 8))\n",
    "ax = plt.axes(projection='3d') \n",
    "ax.plot_surface(X, Y, B_range_tend, cmap='cool', alpha=0.8)\n",
    "ax.set_title('optimal_control B(I,Demand) (GP) ', fontsize=14)\n",
    "ax.set_xlabel('demand', fontsize=12)\n",
    "ax.view_init(30, 60)\n",
    "ax.set_ylabel('I0', fontsize=12)\n",
    "ax.set_zlabel('B', fontsize=10)\n",
    "plt.show()"
   ]
  },
  {
   "cell_type": "code",
   "execution_count": null,
   "metadata": {},
   "outputs": [],
   "source": [
    "X_range = np.arange(-3,3+0.1,0.01)\n",
    "I_range  = np.arange(0,10+0.1,0.01)\n",
    "cond_V0 = np.zeros((len(I_range),len(X_range)))\n",
    "cond_Vmid = np.zeros((len(I_range),len(X_range)))\n",
    "cond_Vend = np.zeros((len(I_range),len(X_range)))\n",
    "for i in range(len(I_range)):\n",
    "    inp = np.column_stack((X_range,I_range[i] * np.ones(len(X_range))))\n",
    "    cond_V0[i,:] = models[0].predict(inp)[0].flatten()\n",
    "    cond_Vmid[i,:] = models[nstep//2].predict(inp)[0].flatten()\n",
    "    cond_Vend[i,:] = models[-2].predict(inp)[0].flatten()\n",
    "\n"
   ]
  },
  {
   "cell_type": "code",
   "execution_count": null,
   "metadata": {},
   "outputs": [],
   "source": [
    "fig = plt.figure(figsize=(8, 8))\n",
    "ax = plt.axes(projection='3d') \n",
    "ax.plot_surface(X, Y, cond_V0, cmap='cool', alpha=0.8)\n",
    "ax.set_title('E[v(I(t)|x(t-1))] t = 1 ', fontsize=14)\n",
    "ax.set_xlabel('x(t-1)', fontsize=12)\n",
    "ax.view_init(30, 60)\n",
    "ax.set_ylabel('It', fontsize=12)\n",
    "ax.set_zlabel('B', fontsize=10)\n",
    "plt.show()"
   ]
  },
  {
   "cell_type": "code",
   "execution_count": null,
   "metadata": {},
   "outputs": [],
   "source": [
    "fig = plt.figure(figsize=(8, 8))\n",
    "ax = plt.axes(projection='3d') \n",
    "ax.plot_surface(X, Y, cond_Vmid, cmap='cool', alpha=0.8)\n",
    "ax.set_title('E[v(I(t)|x(t-1))] t = 24 ', fontsize=14)\n",
    "ax.set_xlabel('x(t-1)', fontsize=12)\n",
    "ax.view_init(30, 60)\n",
    "ax.set_ylabel('It', fontsize=12)\n",
    "ax.set_zlabel('B', fontsize=10)\n",
    "plt.show()"
   ]
  },
  {
   "cell_type": "code",
   "execution_count": null,
   "metadata": {},
   "outputs": [],
   "source": [
    "fig = plt.figure(figsize=(8, 8))\n",
    "ax = plt.axes(projection='3d') \n",
    "ax.plot_surface(X, Y, cond_Vend, cmap='cool', alpha=0.8)\n",
    "ax.set_title('E[v(I(t)|x(t-1))] t = 47.75 ', fontsize=14)\n",
    "ax.set_xlabel('x(t-1)', fontsize=12)\n",
    "ax.view_init(30, 60)\n",
    "ax.set_ylabel('It', fontsize=12)\n",
    "ax.set_zlabel('B', fontsize=10)\n",
    "plt.show()"
   ]
  },
  {
   "cell_type": "code",
   "execution_count": null,
   "metadata": {},
   "outputs": [],
   "source": [
    "np.ones(100)\n"
   ]
  },
  {
   "cell_type": "code",
   "execution_count": null,
   "metadata": {},
   "outputs": [],
   "source": [
    "np.concatenate((c,[1,2,3]))"
   ]
  }
 ],
 "metadata": {
  "kernelspec": {
   "display_name": "Python 3 (ipykernel)",
   "language": "python",
   "name": "python3"
  },
  "language_info": {
   "codemirror_mode": {
    "name": "ipython",
    "version": 3
   },
   "file_extension": ".py",
   "mimetype": "text/x-python",
   "name": "python",
   "nbconvert_exporter": "python",
   "pygments_lexer": "ipython3",
   "version": "3.10.12"
  }
 },
 "nbformat": 4,
 "nbformat_minor": 2
}
