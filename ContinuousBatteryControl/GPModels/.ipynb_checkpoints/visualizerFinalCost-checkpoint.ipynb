{
 "cells": [
  {
   "cell_type": "markdown",
   "metadata": {},
   "source": [
    "# No final cost. T = [0,2], dt = 0.01. RBF"
   ]
  },
  {
   "cell_type": "code",
   "execution_count": null,
   "metadata": {},
   "outputs": [
    {
     "name": "stdout",
     "output_type": "stream",
     "text": [
      "191\n",
      "Values:\n",
      "0.4254877870636432\n",
      "[6.19578813e+04 5.32378005e+02 3.45132846e-01 4.56151570e-01]\n",
      "Controls:\n",
      "0.00015826995829366667\n",
      "[1.29536506e+00 1.41054244e+00 3.14537055e-01 2.20652673e-04]\n",
      "\n",
      "\n",
      "190\n",
      "Values:\n",
      "0.8257281767002116\n",
      "[6.19588149e+04 2.88862810e+02 4.23723333e-01 8.75163578e-01]\n",
      "Controls:\n",
      "0.04546858667290522\n",
      "[2.10594585 2.85434583 0.70784173 0.04825436]\n",
      "\n",
      "\n",
      "189\n",
      "Values:\n",
      "1.3300519684704948\n",
      "[6.19588931e+04 2.12816390e+02 5.63860104e-01 1.39104831e+00]\n",
      "Controls:\n",
      "0.014344423761070984\n",
      "[1.73356496 0.82211596 0.18141735 0.0231982 ]\n",
      "\n",
      "\n",
      "188\n",
      "Values:\n",
      "1.7845315712685312\n",
      "[6.19588684e+04 1.48258582e+02 6.32953487e-01 1.85923744e+00]\n",
      "Controls:\n",
      "0.02548918275406322\n",
      "[1.7568964  1.05116329 0.21365233 0.03514577]\n",
      "\n",
      "\n",
      "187\n",
      "Values:\n",
      "2.172981050570182\n",
      "[6.19588684e+04 1.48258699e+02 6.56974784e-01 2.25995046e+00]\n",
      "Controls:\n",
      "0.03668902821197352\n",
      "[1.71510352 1.19512651 0.24407434 0.04707565]\n",
      "\n",
      "\n",
      "186\n",
      "Values:\n",
      "1.8951944139777457\n",
      "[6.19585853e+04 4.69163684e+01 6.82043677e-01 1.98664998e+00]\n",
      "Controls:\n",
      "0.027991464269799267\n",
      "[1.47302506 1.24553634 0.2342939  0.03602753]\n",
      "\n",
      "\n"
     ]
    }
   ],
   "source": [
    "import numpy as np\n",
    "from GPControl import runner\n",
    "models,controls = runner(include_finalcost = True)\n"
   ]
  },
  {
   "cell_type": "code",
   "execution_count": null,
   "metadata": {},
   "outputs": [],
   "source": [
    "n = len(controls)\n",
    "\n",
    "rbf_var = np.zeros(n)\n",
    "X_lengthscale = np.zeros(n)\n",
    "I_lengthscale = np.zeros(n)\n",
    "matern_liklihood = np.zeros(n)\n",
    "for i in range(len(controls)-1):\n",
    "    rbf_var[i],X_lengthscale[i],I_lengthscale[i],matern_liklihood[i] = models[i].param_array"
   ]
  },
  {
   "cell_type": "code",
   "execution_count": null,
   "metadata": {},
   "outputs": [],
   "source": [
    "import matplotlib.pyplot as plt\n",
    "from globalVar import *\n",
    "plt.plot(t[:-2],rbf_var[:-1])"
   ]
  },
  {
   "cell_type": "code",
   "execution_count": null,
   "metadata": {},
   "outputs": [],
   "source": [
    "import matplotlib.pyplot as plt\n",
    "from globalVar import *\n",
    "plt.plot(t[:-2],X_lengthscale[:-1])"
   ]
  },
  {
   "cell_type": "code",
   "execution_count": null,
   "metadata": {},
   "outputs": [],
   "source": [
    "plt.plot(t[:-2],I_lengthscale[:-1])"
   ]
  },
  {
   "cell_type": "markdown",
   "metadata": {},
   "source": [
    "# Bad cases."
   ]
  },
  {
   "cell_type": "code",
   "execution_count": null,
   "metadata": {},
   "outputs": [],
   "source": [
    "from GPOneStepOptimizer import *\n",
    "from GPVisualizer import B_trajectory,V_trajectory\n",
    "\n"
   ]
  },
  {
   "cell_type": "code",
   "execution_count": null,
   "metadata": {},
   "outputs": [],
   "source": [
    "t = np.arange(0,48,.25)\n",
    "B_star_GP = B_trajectory(-2.5,8,models,controls,exact=False,der=True)\n",
    "B_star_exact = B_trajectory(-2.5,8,models,None,exact=True,der=True)\n",
    "fig = plt.figure(figsize=(10,5))\n",
    "ax = fig.add_subplot(121)\n",
    "ax.plot(t,B_star_GP)\n",
    "ax.set_xlabel(\"Time(hr)\")\n",
    "ax.set_ylabel(\"B (kWh)\")\n",
    "ax.set_title(\"B (GP)\")\n",
    "\n",
    "ax1 = fig.add_subplot(122)\n",
    "ax1.plot(t,B_star_exact)\n",
    "ax1.set_xlabel(\"Time(hr)\")\n",
    "ax1.set_ylabel(\"B (kWh)\")\n",
    "ax1.set_title(\"B (Exact)\")\n",
    "fig.suptitle(\"X=-2.5,I=8\")"
   ]
  },
  {
   "cell_type": "code",
   "execution_count": null,
   "metadata": {},
   "outputs": [],
   "source": [
    "t = np.arange(0,48,.25)\n",
    "B_star_GP = B_trajectory(-2.5,9,models,controls,exact=False)\n",
    "B_star_exact = B_trajectory(-2.5,9,models,None,exact=True,der=True)\n",
    "fig = plt.figure(figsize=(10,5))\n",
    "ax = fig.add_subplot(121)\n",
    "ax.plot(t,B_star_GP)\n",
    "ax.set_xlabel(\"Time(hr)\")\n",
    "ax.set_ylabel(\"B (kWh)\")\n",
    "ax.set_title(\"B (GP)\")\n",
    "\n",
    "ax1 = fig.add_subplot(122)\n",
    "ax1.plot(t,B_star_exact)\n",
    "ax1.set_xlabel(\"Time(hr)\")\n",
    "ax1.set_ylabel(\"B (kWh)\")\n",
    "ax1.set_title(\"B (Exact)\")\n",
    "fig.suptitle(\"X=-2.5,I=9\")"
   ]
  },
  {
   "cell_type": "code",
   "execution_count": null,
   "metadata": {},
   "outputs": [],
   "source": [
    "t = np.arange(0,48,.25)\n",
    "B_star_GP = B_trajectory(-2.5,9.5,models,controls,exact=False)\n",
    "B_star_exact = B_trajectory(-2.5,9.5,models,None,exact=True)\n",
    "fig = plt.figure(figsize=(10,5))\n",
    "ax = fig.add_subplot(121)\n",
    "ax.plot(t,B_star_GP)\n",
    "ax.set_xlabel(\"Time(hr)\")\n",
    "ax.set_ylabel(\"B (kWh)\")\n",
    "ax.set_title(\"B (GP)\")\n",
    "\n",
    "ax1 = fig.add_subplot(122)\n",
    "ax1.plot(t,B_star_exact)\n",
    "ax1.set_xlabel(\"Time(hr)\")\n",
    "ax1.set_ylabel(\"B (kWh)\")\n",
    "ax1.set_title(\"B (Exact)\")\n",
    "fig.suptitle(\"X=-2.5,I=9.5\")\n"
   ]
  },
  {
   "cell_type": "code",
   "execution_count": null,
   "metadata": {},
   "outputs": [],
   "source": [
    "t = np.arange(0,48,.25)\n",
    "B_star_GP = B_trajectory(2.5,2,models,controls,exact=False)\n",
    "B_star_exact = B_trajectory(2.5,2,models,None,exact=True,der=True)\n",
    "fig = plt.figure(figsize=(10,5))\n",
    "ax = fig.add_subplot(121)\n",
    "ax.plot(t,B_star_GP)\n",
    "ax.set_xlabel(\"Time(hr)\")\n",
    "ax.set_ylabel(\"B (kWh)\")\n",
    "ax.set_title(\"B (GP)\")\n",
    "\n",
    "ax1 = fig.add_subplot(122)\n",
    "ax1.plot(t,B_star_exact)\n",
    "ax1.set_xlabel(\"Time(hr)\")\n",
    "ax1.set_ylabel(\"B (kWh)\")\n",
    "ax1.set_title(\"B (Exact)\")\n",
    "fig.suptitle(\"X=2.5,I=2\")"
   ]
  },
  {
   "cell_type": "code",
   "execution_count": null,
   "metadata": {},
   "outputs": [],
   "source": [
    "t = np.arange(0,48,.25)\n",
    "B_star_GP = B_trajectory(2.5,1,models,controls,exact=False)\n",
    "B_star_exact = B_trajectory(2.5,1,models,None,exact=True,der=True)\n",
    "fig = plt.figure(figsize=(10,5))\n",
    "ax = fig.add_subplot(121)\n",
    "ax.plot(t,B_star_GP)\n",
    "ax.set_xlabel(\"Time(hr)\")\n",
    "ax.set_ylabel(\"B (kWh)\")\n",
    "ax.set_title(\"B (GP)\")\n",
    "\n",
    "ax1 = fig.add_subplot(122)\n",
    "ax1.plot(t,B_star_exact)\n",
    "ax1.set_xlabel(\"Time(hr)\")\n",
    "ax1.set_ylabel(\"B (kWh)\")\n",
    "ax1.set_title(\"B (Exact)\")\n",
    "fig.suptitle(\"X=2.5,I=1\")"
   ]
  },
  {
   "cell_type": "code",
   "execution_count": null,
   "metadata": {},
   "outputs": [],
   "source": [
    "t = np.arange(0,48,.25)\n",
    "B_star_GP = B_trajectory(2,0.5,models,controls,exact=False)\n",
    "B_star_exact = B_trajectory(2,0.5,models,None,exact=True,der=True)\n",
    "fig = plt.figure(figsize=(10,5))\n",
    "ax = fig.add_subplot(121)\n",
    "ax.plot(t,B_star_GP)\n",
    "ax.set_xlabel(\"Time(hr)\")\n",
    "ax.set_ylabel(\"B (kWh)\")\n",
    "ax.set_title(\"B (GP)\")\n",
    "\n",
    "ax1 = fig.add_subplot(122)\n",
    "ax1.plot(t,B_star_exact)\n",
    "ax1.set_xlabel(\"Time(hr)\")\n",
    "ax1.set_ylabel(\"B (kWh)\")\n",
    "ax1.set_title(\"B (Exact)\")\n",
    "fig.suptitle(\"X=2.5,I=0.5\")"
   ]
  },
  {
   "cell_type": "markdown",
   "metadata": {},
   "source": [
    "# Good cases\n"
   ]
  },
  {
   "cell_type": "code",
   "execution_count": null,
   "metadata": {},
   "outputs": [],
   "source": [
    "t = np.arange(0,48,.25)\n",
    "B_star_GP = B_trajectory(2.5,8,models,controls,exact=False)\n",
    "B_star_exact = B_trajectory(2.5,8,models,None,exact=True,der=True)\n",
    "fig = plt.figure(figsize=(10,5))\n",
    "ax = fig.add_subplot(121)\n",
    "ax.plot(t,B_star_GP)\n",
    "ax.set_xlabel(\"Time(hr)\")\n",
    "ax.set_ylabel(\"B (kWh)\")\n",
    "ax.set_title(\"B (GP)\")\n",
    "\n",
    "ax1 = fig.add_subplot(122)\n",
    "ax1.plot(t,B_star_exact)\n",
    "ax1.set_xlabel(\"Time(hr)\")\n",
    "ax1.set_ylabel(\"B (kWh)\")\n",
    "ax1.set_title(\"B (Exact)\")\n",
    "fig.suptitle(\"X=2.5,I=8\")"
   ]
  },
  {
   "cell_type": "code",
   "execution_count": null,
   "metadata": {},
   "outputs": [],
   "source": [
    "t = np.arange(0,48,.25)\n",
    "B_star_GP = B_trajectory(2.5,9,models,controls,exact=False)\n",
    "B_star_exact = B_trajectory(2.5,9,models,None,exact=True,der=True)\n",
    "fig = plt.figure(figsize=(10,5))\n",
    "ax = fig.add_subplot(121)\n",
    "ax.plot(t,B_star_GP)\n",
    "ax.set_xlabel(\"Time(hr)\")\n",
    "ax.set_ylabel(\"B (kWh)\")\n",
    "ax.set_title(\"B (GP)\")\n",
    "\n",
    "ax1 = fig.add_subplot(122)\n",
    "ax1.plot(t,B_star_exact)\n",
    "ax1.set_xlabel(\"Time(hr)\")\n",
    "ax1.set_ylabel(\"B (kWh)\")\n",
    "ax1.set_title(\"B (Exact)\")\n",
    "fig.suptitle(\"X=2.5,I=9\")"
   ]
  },
  {
   "cell_type": "code",
   "execution_count": null,
   "metadata": {},
   "outputs": [],
   "source": [
    "t = np.arange(0,48,.25)\n",
    "B_star_GP = B_trajectory(2.5,10,models,controls,exact=False)\n",
    "B_star_exact = B_trajectory(2.5,10,models,None,exact=True,der=True)\n",
    "fig = plt.figure(figsize=(10,5))\n",
    "ax = fig.add_subplot(121)\n",
    "ax.plot(t,B_star_GP)\n",
    "ax.set_xlabel(\"Time(hr)\")\n",
    "ax.set_ylabel(\"B (kWh)\")\n",
    "ax.set_title(\"B (GP)\")\n",
    "\n",
    "ax1 = fig.add_subplot(122)\n",
    "ax1.plot(t,B_star_exact)\n",
    "ax1.set_xlabel(\"Time(hr)\")\n",
    "ax1.set_ylabel(\"B (kWh)\")\n",
    "ax1.set_title(\"B (Exact)\")\n",
    "fig.suptitle(\"X=2.5,I=10\")"
   ]
  },
  {
   "cell_type": "code",
   "execution_count": null,
   "metadata": {},
   "outputs": [],
   "source": [
    "t = np.arange(0,48,.25)\n",
    "B_star_GP = B_trajectory(-2.5,0,models,controls,exact=False,der=True)\n",
    "B_star_exact = B_trajectory(-2.5,0,models,None,exact=True,der=True)\n",
    "fig = plt.figure(figsize=(10,5))\n",
    "ax = fig.add_subplot(121)\n",
    "ax.plot(t,B_star_GP)\n",
    "ax.set_xlabel(\"Time(hr)\")\n",
    "ax.set_ylabel(\"B (kWh)\")\n",
    "ax.set_title(\"B (GP)\")\n",
    "\n",
    "ax1 = fig.add_subplot(122)\n",
    "ax1.plot(t,B_star_exact)\n",
    "ax1.set_xlabel(\"Time(hr)\")\n",
    "ax1.set_ylabel(\"B (kWh)\")\n",
    "ax1.set_title(\"B (Exact)\")\n",
    "fig.suptitle(\"X=-2.5,I=0\")"
   ]
  },
  {
   "cell_type": "code",
   "execution_count": null,
   "metadata": {},
   "outputs": [],
   "source": [
    "t = np.arange(0,48,.25)\n",
    "B_star_GP = B_trajectory(-2.5,1,models,controls,exact=False)\n",
    "B_star_exact = B_trajectory(-2.5,1,models,None,exact=True,der=True)\n",
    "fig = plt.figure(figsize=(10,5))\n",
    "ax = fig.add_subplot(121)\n",
    "ax.plot(t,B_star_GP)\n",
    "ax.set_xlabel(\"Time(hr)\")\n",
    "ax.set_ylabel(\"B (kWh)\")\n",
    "ax.set_title(\"B (GP)\")\n",
    "\n",
    "ax1 = fig.add_subplot(122)\n",
    "ax1.plot(t,B_star_exact)\n",
    "ax1.set_xlabel(\"Time(hr)\")\n",
    "ax1.set_ylabel(\"B (kWh)\")\n",
    "ax1.set_title(\"B (Exact)\")\n",
    "fig.suptitle(\"X=-2.5,I=1\")"
   ]
  },
  {
   "cell_type": "code",
   "execution_count": null,
   "metadata": {},
   "outputs": [],
   "source": [
    "t = np.arange(0,48,.25)\n",
    "B_star_GP = B_trajectory(-2.5,3,models,controls,exact=False)\n",
    "B_star_exact = B_trajectory(-2.5,3,models,None,exact=True,der=True)\n",
    "fig = plt.figure(figsize=(10,5))\n",
    "ax = fig.add_subplot(121)\n",
    "ax.plot(t,B_star_GP)\n",
    "ax.set_xlabel(\"Time(hr)\")\n",
    "ax.set_ylabel(\"B (kWh)\")\n",
    "ax.set_title(\"B (GP)\")\n",
    "\n",
    "ax1 = fig.add_subplot(122)\n",
    "ax1.plot(t,B_star_exact)\n",
    "ax1.set_xlabel(\"Time(hr)\")\n",
    "ax1.set_ylabel(\"B (kWh)\")\n",
    "ax1.set_title(\"B (Exact)\")\n",
    "fig.suptitle(\"X=-2.5,I=3\")"
   ]
  },
  {
   "cell_type": "code",
   "execution_count": null,
   "metadata": {},
   "outputs": [],
   "source": [
    "X_range = np.arange(-3,3+0.1,0.01)\n",
    "I_range  = np.arange(0,10+0.1,0.01)\n",
    "B_range_t0 = np.zeros((len(I_range),len(X_range)))\n",
    "B_range_tmid = np.zeros((len(I_range),len(X_range)))\n",
    "B_range_tend = np.zeros((len(I_range),len(X_range)))\n",
    "for i in range(len(I_range)):\n",
    "    inp = np.column_stack((X_range,I_range[i] * np.ones(len(X_range))))\n",
    "    B_range_t0[i,:] = controls[0].predict(inp)[0].flatten()\n",
    "    B_range_tmid[i,:] = controls[nstep//2].predict(inp)[0].flatten()\n",
    "    B_range_tend[i,:] = controls[-1].predict(inp)[0].flatten()"
   ]
  },
  {
   "cell_type": "code",
   "execution_count": null,
   "metadata": {},
   "outputs": [],
   "source": [
    "X_range = np.arange(-3,3+0.1,0.01)\n",
    "I_range  = np.arange(0,10+0.1,0.01)\n",
    "cond_V0 = np.zeros((len(I_range),len(X_range)))\n",
    "cond_dV0_dI = np.zeros((len(I_range),len(X_range)))\n",
    "cond_Vmid = np.zeros((len(I_range),len(X_range)))\n",
    "cond_dVmid_dI = np.zeros((len(I_range),len(X_range)))\n",
    "cond_Vend = np.zeros((len(I_range),len(X_range)))\n",
    "cond_dVend_dI = np.zeros((len(I_range),len(X_range)))\n",
    "for i in range(len(I_range)):\n",
    "    \n",
    "    inp = np.column_stack((X_range,I_range[i] * np.ones(len(X_range))))\n",
    "    cond_V0[i,:] = models[0].predict(inp)[0].flatten()\n",
    "    cond_dV0_dI[i,:] = models[0].predictive_gradients(inp)[0][:,1].flatten()\n",
    "\n",
    "    cond_Vmid[i,:] = models[nstep//2].predict(inp)[0].flatten()\n",
    "    cond_dVmid_dI[i,:] = models[nstep//2].predictive_gradients(inp)[0][:,1].flatten()\n",
    "\n",
    "    cond_Vend[i,:] = models[-2].predict(inp)[0].flatten()\n",
    "    cond_dVend_dI[i,:] = models[-2].predictive_gradients(inp)[0][:,1].flatten()"
   ]
  },
  {
   "cell_type": "code",
   "execution_count": null,
   "metadata": {},
   "outputs": [],
   "source": [
    "X_range_scipy = np.arange(-3,3+0.1,0.1)\n",
    "I_range_scipy  = np.arange(0,10+0.1,0.1)\n",
    "B_range_t0_scipy = np.zeros((len(I_range_scipy),len(X_range_scipy)))\n",
    "B_range_tmid_scipy = np.zeros((len(I_range_scipy),len(X_range_scipy)))\n",
    "B_range_tend_scipy = np.zeros((len(I_range_scipy),len(X_range_scipy)))\n",
    "for i in range(len(I_range_scipy)):\n",
    "    for j in range(len(X_range_scipy)):\n",
    "        LB = np.maximum(B_min, -(I_range_scipy[i])/dt);UB = np.minimum(B_max, (I_max-I_range_scipy[i])/dt)\n",
    "        arg = (one_step_objective,one_step_derivative, X_range_scipy[j],I_range_scipy[i],models[0],LB,UB)\n",
    "        B_range_t0_scipy[i,j] = minimize(arg)\n",
    "        arg = (one_step_objective,one_step_derivative, X_range_scipy[j],I_range_scipy[i],models[nstep//2],LB,UB)\n",
    "        B_range_tmid_scipy[i,j] = minimize(arg)\n",
    "        arg = (one_step_objective,one_step_derivative, X_range_scipy[j],I_range_scipy[i],models[-1],LB,UB)\n",
    "        B_range_tend_scipy[i,j] = minimize(arg)\n"
   ]
  },
  {
   "cell_type": "code",
   "execution_count": null,
   "metadata": {},
   "outputs": [],
   "source": [
    "X, Y = np.meshgrid(X_range, I_range)\n",
    "\n",
    "fig = plt.figure(figsize=(20,20))\n",
    "ax = fig.add_subplot(121,projection= \"3d\")\n",
    "ax.plot_surface(X, Y, B_range_t0, cmap='cool', alpha=0.8)\n",
    "ax.set_title(' B (GP) t = 0', fontsize=14)\n",
    "ax.set_xlabel('X', fontsize=12)\n",
    "ax.view_init(30, 60)\n",
    "ax.set_ylabel('I', fontsize=12)\n",
    "ax.set_zlabel('B', fontsize=10)\n",
    "\n",
    "\n",
    "X, Y = np.meshgrid(X_range_scipy, I_range_scipy)\n",
    "ax2= fig.add_subplot(122,projection= \"3d\")\n",
    "ax2.plot_surface(X, Y, B_range_t0_scipy, cmap='cool', alpha=0.8)\n",
    "ax2.set_title('B (scipy) t=0 ', fontsize=14)\n",
    "ax2.set_xlabel('X', fontsize=12)\n",
    "ax2.view_init(30, 60)\n",
    "ax2.set_ylabel('I', fontsize=12)\n",
    "ax2.set_zlabel('B', fontsize=10)\n",
    "plt.tight_layout()"
   ]
  },
  {
   "cell_type": "code",
   "execution_count": null,
   "metadata": {},
   "outputs": [],
   "source": [
    "X, Y = np.meshgrid(X_range, I_range)\n",
    "fig = plt.figure(figsize=(20,20))\n",
    "ax1= fig.add_subplot(121,projection= \"3d\")\n",
    "ax1.plot_surface(X, Y, cond_V0, cmap='cool', alpha=0.8)\n",
    "ax1.set_title('E[v(I(t)|x(t-1))] t = 1 ', fontsize=14)\n",
    "ax1.set_xlabel('X(t-1)', fontsize=12)\n",
    "ax1.view_init(30, 60)\n",
    "ax1.set_ylabel('I(t)', fontsize=12)\n",
    "ax1.set_zlabel('E[v(I(t)|x(t-1))', fontsize=10)\n",
    "\n",
    "ax2= fig.add_subplot(122,projection= \"3d\")\n",
    "ax2.plot_surface(X, Y, cond_dV0_dI, cmap='cool', alpha=0.8)\n",
    "ax2.set_title('dE[v(I(t)|x(t-1))]/dI t = 1 ', fontsize=14)\n",
    "ax2.set_xlabel('x(t-1)', fontsize=12)\n",
    "ax2.view_init(30, 60)\n",
    "ax2.set_ylabel('It', fontsize=12)\n",
    "ax2.set_zlabel('dE[v(I(t)|x(t-1))]/dI', fontsize=10)"
   ]
  },
  {
   "cell_type": "code",
   "execution_count": null,
   "metadata": {},
   "outputs": [],
   "source": [
    "X, Y = np.meshgrid(X_range, I_range)\n",
    "\n",
    "fig = plt.figure(figsize=(20,20))\n",
    "ax = fig.add_subplot(121,projection= \"3d\")\n",
    "ax.plot_surface(X, Y, B_range_tmid, cmap='cool', alpha=0.8)\n",
    "ax.set_title(' B (GP) t = 24', fontsize=14)\n",
    "ax.set_xlabel('X', fontsize=12)\n",
    "ax.view_init(30, 60)\n",
    "ax.set_ylabel('I', fontsize=12)\n",
    "ax.set_zlabel('B', fontsize=10)\n",
    "\n",
    "\n",
    "X, Y = np.meshgrid(X_range_scipy, I_range_scipy)\n",
    "ax2= fig.add_subplot(122,projection= \"3d\")\n",
    "ax2.plot_surface(X, Y, B_range_tmid_scipy, cmap='cool', alpha=0.8)\n",
    "ax2.set_title('B (scipy) t=24 ', fontsize=14)\n",
    "ax2.set_xlabel('X', fontsize=12)\n",
    "ax2.view_init(30, 60)\n",
    "ax2.set_ylabel('I', fontsize=12)\n",
    "ax2.set_zlabel('B', fontsize=10)\n",
    "plt.tight_layout()"
   ]
  },
  {
   "cell_type": "code",
   "execution_count": null,
   "metadata": {},
   "outputs": [],
   "source": [
    "X, Y = np.meshgrid(X_range, I_range)\n",
    "fig = plt.figure(figsize=(20,20))\n",
    "ax1= fig.add_subplot(121,projection= \"3d\")\n",
    "ax1.plot_surface(X, Y, cond_Vmid, cmap='cool', alpha=0.8)\n",
    "ax1.set_title('E[v(I(t)|x(t-1))] t = 24 ', fontsize=14)\n",
    "ax1.set_xlabel('X(t-1)', fontsize=12)\n",
    "ax1.view_init(30, 60)\n",
    "ax1.set_ylabel('I(t)', fontsize=12)\n",
    "ax1.set_zlabel('E[v(I(t)|x(t-1))', fontsize=10)\n",
    "\n",
    "ax2= fig.add_subplot(122,projection= \"3d\")\n",
    "ax2.plot_surface(X, Y, cond_dVmid_dI, cmap='cool', alpha=0.8)\n",
    "ax2.set_title('dE[v(I(t)|x(t-1))]/dI t = 24 ', fontsize=14)\n",
    "ax2.set_xlabel('x(t-1)', fontsize=12)\n",
    "ax2.view_init(30, 60)\n",
    "ax2.set_ylabel('It', fontsize=12)\n",
    "ax2.set_zlabel('dE[v(I(t)|x(t-1))]/dI', fontsize=10)"
   ]
  },
  {
   "cell_type": "code",
   "execution_count": null,
   "metadata": {},
   "outputs": [],
   "source": [
    "X, Y = np.meshgrid(X_range, I_range)\n",
    "\n",
    "fig = plt.figure(figsize=(20,20))\n",
    "ax = fig.add_subplot(121,projection= \"3d\")\n",
    "ax.plot_surface(X, Y, B_range_tend, cmap='cool', alpha=0.8)\n",
    "ax.set_title(' B (GP) t = 47.75', fontsize=14)\n",
    "ax.set_xlabel('X', fontsize=12)\n",
    "ax.view_init(30, 60)\n",
    "ax.set_ylabel('I', fontsize=12)\n",
    "ax.set_zlabel('B', fontsize=10)\n",
    "\n",
    "\n",
    "X, Y = np.meshgrid(X_range_scipy, I_range_scipy)\n",
    "ax2= fig.add_subplot(122,projection= \"3d\")\n",
    "ax2.plot_surface(X, Y, B_range_tend_scipy, cmap='cool', alpha=0.8)\n",
    "ax2.set_title('B (scipy) t=47.75 ', fontsize=14)\n",
    "ax2.set_xlabel('X', fontsize=12)\n",
    "ax2.view_init(30, 60)\n",
    "ax2.set_ylabel('I', fontsize=12)\n",
    "ax2.set_zlabel('B', fontsize=10)\n",
    "plt.tight_layout()"
   ]
  },
  {
   "cell_type": "code",
   "execution_count": null,
   "metadata": {},
   "outputs": [],
   "source": [
    "X, Y = np.meshgrid(X_range, I_range)\n",
    "fig = plt.figure(figsize=(20,20))\n",
    "ax1= fig.add_subplot(121,projection= \"3d\")\n",
    "ax1.plot_surface(X, Y, cond_Vend, cmap='cool', alpha=0.8)\n",
    "ax1.set_title('E[v(I(t)|x(t-1))] t = 47.75 ', fontsize=14)\n",
    "ax1.set_xlabel('X(t-1)', fontsize=12)\n",
    "ax1.view_init(30, 60)\n",
    "ax1.set_ylabel('I(t)', fontsize=12)\n",
    "ax1.set_zlabel('E[v(I(t)|x(t-1))', fontsize=10)\n",
    "\n",
    "ax2= fig.add_subplot(122,projection= \"3d\")\n",
    "ax2.plot_surface(X, Y, cond_dVend_dI, cmap='cool', alpha=0.8)\n",
    "ax2.set_title('dE[v(I(t)|x(t-1))]/dI t = 47.75 ', fontsize=14)\n",
    "ax2.set_xlabel('x(t-1)', fontsize=12)\n",
    "ax2.view_init(30, 60)\n",
    "ax2.set_ylabel('It', fontsize=12)\n",
    "ax2.set_zlabel('dE[v(I(t)|x(t-1))]/dI', fontsize=10)"
   ]
  },
  {
   "cell_type": "code",
   "execution_count": null,
   "metadata": {},
   "outputs": [],
   "source": [
    "t[182]"
   ]
  },
  {
   "cell_type": "code",
   "execution_count": null,
   "metadata": {},
   "outputs": [],
   "source": [
    "X_range = np.arange(-3,3+0.1,0.1)\n",
    "I_range  = np.arange(0,10+0.1,0.1)\n",
    "cond_V_192 = np.zeros((len(I_range),len(X_range)))\n",
    "cond_V_194 = np.zeros((len(I_range),len(X_range)))\n",
    "cond_V_196 = np.zeros((len(I_range),len(X_range)))\n",
    "for i in range(len(I_range)):\n",
    "    \n",
    "    inp = np.column_stack((X_range,I_range[i] * np.ones(len(X_range))))\n",
    "    cond_V_192[i,:] = models[180].predict(inp)[0].flatten()\n",
    "\n",
    "    cond_V_194[i,:] = models[182].predict(inp)[0].flatten()\n",
    "\n",
    "    cond_V_196[i,:] = models[183].predict(inp)[0].flatten()\n",
    "\n",
    "X, Y = np.meshgrid(X_range, I_range)\n",
    "fig = plt.figure(figsize=(20,20))\n",
    "ax1= fig.add_subplot(131,projection= \"3d\")\n",
    "ax1.plot_surface(X, Y, cond_V_192, cmap='cool', alpha=0.8)\n",
    "ax1.set_title('E[v(I(t)|x(t-1))] 45 hours', fontsize=14)\n",
    "ax1.set_xlabel('X(t-1)', fontsize=12)\n",
    "ax1.view_init(30, 60)\n",
    "ax1.set_ylabel('I(t)', fontsize=12)\n",
    "ax1.set_zlabel('E[v(I(t)|x(t-1))', fontsize=10)\n",
    "\n",
    "ax2= fig.add_subplot(132,projection= \"3d\")\n",
    "ax2.plot_surface(X, Y, cond_V_194, cmap='cool', alpha=0.8)\n",
    "ax2.set_title('E[v(I(t)|x(t-1))]  45.5 ', fontsize=14)\n",
    "ax2.set_xlabel('x(t-1)', fontsize=12)\n",
    "ax2.view_init(30, 60)\n",
    "ax2.set_ylabel('It', fontsize=12)\n",
    "ax2.set_zlabel('E[v(I(t)|x(t-1))] ', fontsize=10)\n",
    "\n",
    "\n",
    "ax2= fig.add_subplot(133,projection= \"3d\")\n",
    "ax2.plot_surface(X, Y, cond_V_196, cmap='cool', alpha=0.8)\n",
    "ax2.set_title('E[v(I(t)|x(t-1))]  45.75 ', fontsize=14)\n",
    "ax2.set_xlabel('x(t-1)', fontsize=12)\n",
    "ax2.view_init(30, 60)\n",
    "ax2.set_ylabel('It', fontsize=12)\n",
    "ax2.set_zlabel('E[v(I(t)|x(t-1))] ', fontsize=10)"
   ]
  },
  {
   "cell_type": "code",
   "execution_count": null,
   "metadata": {},
   "outputs": [],
   "source": [
    "total_cost,Xs,Is,Bts,imbalance = V_trajectory(X0=0,I0=5,V_mdls=models,B_mdls=controls,exact = True,der = True)\n",
    "fig = plt.figure(figsize=(10,5))\n",
    "ax = fig.add_subplot(121)\n",
    "ax.plot(t,Xs[:-1])\n",
    "ax.plot(t,Bts)\n",
    "ax.plot(t,imbalance)\n",
    "ax.legend([\"Demand\",\"B\",\"Shaved\"])\n",
    "ax.set_xlabel(\"Time(hr)\")\n",
    "ax.set_ylabel(\"(kW)\")\n",
    "\n",
    "ax1 = fig.add_subplot(122)\n",
    "ax1.plot(t,Is[:-1])\n",
    "ax1.set_xlabel(\"Time(hr)\")\n",
    "ax1.set_ylabel(\"I (kWh)\")"
   ]
  },
  {
   "cell_type": "code",
   "execution_count": null,
   "metadata": {},
   "outputs": [],
   "source": [
    "N_MC = 1000\n",
    "samples = np.zeros(N_MC)\n",
    "differences = np.zeros((N_MC,nstep))\n",
    "for i in range(N_MC):\n",
    "    samples[i],_,_,_,differences[i,:]= V_trajectory(X0=0,I0=5,V_mdls=models,B_mdls=controls,exact = True,der = True)"
   ]
  },
  {
   "cell_type": "code",
   "execution_count": null,
   "metadata": {},
   "outputs": [],
   "source": [
    "total = np.sum(differences*dt,axis = 1)\n",
    "\n",
    "plt.hist(total)"
   ]
  },
  {
   "cell_type": "code",
   "execution_count": null,
   "metadata": {},
   "outputs": [],
   "source": [
    "plt.hist(samples,bins=20)"
   ]
  },
  {
   "cell_type": "code",
   "execution_count": null,
   "metadata": {},
   "outputs": [],
   "source": [
    "# Trajectory plots to see if it its 10 or 0.(Done)\n",
    "# Remove GP for control, use dV directly. (Done)\n",
    "# Fix lengthscale after plotting lengthscale \n",
    "# Set V(T)=0.\n",
    "# plot v_I. \n",
    "# histogram of the total realized loss. (B+X)^2 distribution. \n",
    "# sensitivity analysis on terminal conditinal. (V = 0 VS V = HOCKEY STICK)\n",
    "# plot of derivative, vs optimal control and see how far off. \n",
    "# Q? FOR PROLONGED negative X, will I hit I bound?\n",
    "\n",
    "# Can compare with V as function of V_I and V as function of MC."
   ]
  },
  {
   "cell_type": "code",
   "execution_count": null,
   "metadata": {},
   "outputs": [],
   "source": [
    "\n",
    "# COMPARE GP vs analytical show what GP is bad at (Done)\n",
    "\n",
    "# plot V and dV/dI(Done)\n",
    "# histogram of total realized loss using both B GP and B analyt (Done)\n",
    "# trajectory using exact method and see if it hits 10 or 0.(Done)\n",
    "# plots of Xs,Is, Xs+Bs, (Done)\n",
    "# Fix lengthscale (may be not since we gonna throw Control GP)\n",
    "# we train -3 we never gonna see -3."
   ]
  }
 ],
 "metadata": {
  "kernelspec": {
   "display_name": "Python 3 (ipykernel)",
   "language": "python",
   "name": "python3"
  },
  "language_info": {
   "codemirror_mode": {
    "name": "ipython",
    "version": 3
   },
   "file_extension": ".py",
   "mimetype": "text/x-python",
   "name": "python",
   "nbconvert_exporter": "python",
   "pygments_lexer": "ipython3",
   "version": "3.10.12"
  }
 },
 "nbformat": 4,
 "nbformat_minor": 2
}
