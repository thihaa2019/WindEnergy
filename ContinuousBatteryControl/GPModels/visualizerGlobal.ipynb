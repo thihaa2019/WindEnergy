{
 "cells": [
  {
   "cell_type": "code",
   "execution_count": 2,
   "metadata": {},
   "outputs": [
    {
     "ename": "KeyboardInterrupt",
     "evalue": "",
     "output_type": "error",
     "traceback": [
      "\u001b[0;31m---------------------------------------------------------------------------\u001b[0m",
      "\u001b[0;31mKeyboardInterrupt\u001b[0m                         Traceback (most recent call last)",
      "Cell \u001b[0;32mIn[2], line 2\u001b[0m\n\u001b[1;32m      1\u001b[0m \u001b[39mfrom\u001b[39;00m \u001b[39mGPGlobalControl\u001b[39;00m \u001b[39mimport\u001b[39;00m runner\n\u001b[0;32m----> 2\u001b[0m models,controls \u001b[39m=\u001b[39m runner()\n",
      "File \u001b[0;32m~/Desktop/Energy research/ContinuousBatteryControl/GPModels/GPGlobalControl.py:78\u001b[0m, in \u001b[0;36mrunner\u001b[0;34m()\u001b[0m\n\u001b[1;32m     76\u001b[0m idx \u001b[39m=\u001b[39m \u001b[39m0\u001b[39m\n\u001b[1;32m     77\u001b[0m \u001b[39mfor\u001b[39;00m arg \u001b[39min\u001b[39;00m args:\n\u001b[0;32m---> 78\u001b[0m     optimal_B[idx] \u001b[39m=\u001b[39m minimize(arg)\n\u001b[1;32m     79\u001b[0m     idx\u001b[39m+\u001b[39m\u001b[39m=\u001b[39m\u001b[39m1\u001b[39m\n\u001b[1;32m     81\u001b[0m gp_test \u001b[39m=\u001b[39m np\u001b[39m.\u001b[39mcolumn_stack((demandMatrix[:,\u001b[39m1\u001b[39m], I_next \u001b[39m+\u001b[39m optimal_B \u001b[39m*\u001b[39mdt))\n",
      "File \u001b[0;32m~/Desktop/Energy research/ContinuousBatteryControl/GPModels/GPOneStepOptimizer.py:13\u001b[0m, in \u001b[0;36mminimize\u001b[0;34m(args)\u001b[0m\n\u001b[1;32m     11\u001b[0m f,x,i,mdl,lb,ub \u001b[39m=\u001b[39m args\n\u001b[1;32m     12\u001b[0m bnds \u001b[39m=\u001b[39m optimize\u001b[39m.\u001b[39mBounds(lb, ub )\n\u001b[0;32m---> 13\u001b[0m res \u001b[39m=\u001b[39m optimize\u001b[39m.\u001b[39;49mminimize(f, x0\u001b[39m=\u001b[39;49m(lb\u001b[39m+\u001b[39;49mub)\u001b[39m/\u001b[39;49m\u001b[39m2\u001b[39;49m, args\u001b[39m=\u001b[39;49m(x,i,mdl),method \u001b[39m=\u001b[39;49m \u001b[39m\"\u001b[39;49m\u001b[39mL-BFGS-B\u001b[39;49m\u001b[39m\"\u001b[39;49m, bounds \u001b[39m=\u001b[39;49m bnds)\n\u001b[1;32m     14\u001b[0m \u001b[39mreturn\u001b[39;00m res\u001b[39m.\u001b[39mx[\u001b[39m0\u001b[39m]\n",
      "File \u001b[0;32m~/miniconda3/envs/energy_mike/lib/python3.10/site-packages/scipy/optimize/_minimize.py:710\u001b[0m, in \u001b[0;36mminimize\u001b[0;34m(fun, x0, args, method, jac, hess, hessp, bounds, constraints, tol, callback, options)\u001b[0m\n\u001b[1;32m    707\u001b[0m     res \u001b[39m=\u001b[39m _minimize_newtoncg(fun, x0, args, jac, hess, hessp, callback,\n\u001b[1;32m    708\u001b[0m                              \u001b[39m*\u001b[39m\u001b[39m*\u001b[39moptions)\n\u001b[1;32m    709\u001b[0m \u001b[39melif\u001b[39;00m meth \u001b[39m==\u001b[39m \u001b[39m'\u001b[39m\u001b[39ml-bfgs-b\u001b[39m\u001b[39m'\u001b[39m:\n\u001b[0;32m--> 710\u001b[0m     res \u001b[39m=\u001b[39m _minimize_lbfgsb(fun, x0, args, jac, bounds,\n\u001b[1;32m    711\u001b[0m                            callback\u001b[39m=\u001b[39;49mcallback, \u001b[39m*\u001b[39;49m\u001b[39m*\u001b[39;49moptions)\n\u001b[1;32m    712\u001b[0m \u001b[39melif\u001b[39;00m meth \u001b[39m==\u001b[39m \u001b[39m'\u001b[39m\u001b[39mtnc\u001b[39m\u001b[39m'\u001b[39m:\n\u001b[1;32m    713\u001b[0m     res \u001b[39m=\u001b[39m _minimize_tnc(fun, x0, args, jac, bounds, callback\u001b[39m=\u001b[39mcallback,\n\u001b[1;32m    714\u001b[0m                         \u001b[39m*\u001b[39m\u001b[39m*\u001b[39moptions)\n",
      "File \u001b[0;32m~/miniconda3/envs/energy_mike/lib/python3.10/site-packages/scipy/optimize/_lbfgsb_py.py:294\u001b[0m, in \u001b[0;36m_minimize_lbfgsb\u001b[0;34m(fun, x0, args, jac, bounds, disp, maxcor, ftol, gtol, eps, maxfun, maxiter, iprint, callback, maxls, finite_diff_rel_step, **unknown_options)\u001b[0m\n\u001b[1;32m    291\u001b[0m new_bounds \u001b[39m=\u001b[39m old_bound_to_new(bounds)\n\u001b[1;32m    293\u001b[0m \u001b[39m# check bounds\u001b[39;00m\n\u001b[0;32m--> 294\u001b[0m \u001b[39mif\u001b[39;00m (new_bounds[\u001b[39m0\u001b[39;49m] \u001b[39m>\u001b[39;49m new_bounds[\u001b[39m1\u001b[39;49m])\u001b[39m.\u001b[39;49many():\n\u001b[1;32m    295\u001b[0m     \u001b[39mraise\u001b[39;00m \u001b[39mValueError\u001b[39;00m(\u001b[39m\"\u001b[39m\u001b[39mLBFGSB - one of the lower bounds is greater than an upper bound.\u001b[39m\u001b[39m\"\u001b[39m)\n\u001b[1;32m    297\u001b[0m \u001b[39m# initial vector must lie within the bounds. Otherwise ScalarFunction and\u001b[39;00m\n\u001b[1;32m    298\u001b[0m \u001b[39m# approx_derivative will cause problems\u001b[39;00m\n",
      "File \u001b[0;32m~/miniconda3/envs/energy_mike/lib/python3.10/site-packages/numpy/core/_methods.py:58\u001b[0m, in \u001b[0;36m_any\u001b[0;34m(a, axis, dtype, out, keepdims, where)\u001b[0m\n\u001b[1;32m     55\u001b[0m \u001b[39mdef\u001b[39;00m \u001b[39m_any\u001b[39m(a, axis\u001b[39m=\u001b[39m\u001b[39mNone\u001b[39;00m, dtype\u001b[39m=\u001b[39m\u001b[39mNone\u001b[39;00m, out\u001b[39m=\u001b[39m\u001b[39mNone\u001b[39;00m, keepdims\u001b[39m=\u001b[39m\u001b[39mFalse\u001b[39;00m, \u001b[39m*\u001b[39m, where\u001b[39m=\u001b[39m\u001b[39mTrue\u001b[39;00m):\n\u001b[1;32m     56\u001b[0m     \u001b[39m# Parsing keyword arguments is currently fairly slow, so avoid it for now\u001b[39;00m\n\u001b[1;32m     57\u001b[0m     \u001b[39mif\u001b[39;00m where \u001b[39mis\u001b[39;00m \u001b[39mTrue\u001b[39;00m:\n\u001b[0;32m---> 58\u001b[0m         \u001b[39mreturn\u001b[39;00m umr_any(a, axis, dtype, out, keepdims)\n\u001b[1;32m     59\u001b[0m     \u001b[39mreturn\u001b[39;00m umr_any(a, axis, dtype, out, keepdims, where\u001b[39m=\u001b[39mwhere)\n",
      "\u001b[0;31mKeyboardInterrupt\u001b[0m: "
     ]
    }
   ],
   "source": [
    "from GPGlobalControl import runner\n",
    "models,controls = runner()\n"
   ]
  }
 ],
 "metadata": {
  "kernelspec": {
   "display_name": "energy_mike",
   "language": "python",
   "name": "python3"
  },
  "language_info": {
   "codemirror_mode": {
    "name": "ipython",
    "version": 3
   },
   "file_extension": ".py",
   "mimetype": "text/x-python",
   "name": "python",
   "nbconvert_exporter": "python",
   "pygments_lexer": "ipython3",
   "version": "3.10.12"
  },
  "orig_nbformat": 4
 },
 "nbformat": 4,
 "nbformat_minor": 2
}
